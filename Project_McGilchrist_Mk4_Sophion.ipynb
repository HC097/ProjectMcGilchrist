{
 "cells": [
  {
   "cell_type": "markdown",
   "id": "b587f26c",
   "metadata": {},
   "source": [
    "# Project McGilchrist – Mk4 Prototype\n",
    "**Recursive Dialogue Engine**: Logos ↔ Mythos with Sophion Arbitration"
   ]
  },
  {
   "cell_type": "code",
   "execution_count": null,
   "id": "08fa3c75",
   "metadata": {},
   "outputs": [],
   "source": [
    "from typing import Dict, List\n",
    "import random"
   ]
  },
  {
   "cell_type": "markdown",
   "id": "17f968bd",
   "metadata": {},
   "source": [
    "## Agent Class for Logos and Mythos"
   ]
  },
  {
   "cell_type": "code",
   "execution_count": null,
   "id": "09635a31",
   "metadata": {},
   "outputs": [],
   "source": [
    "class Agent:\n",
    "    def __init__(self, name: str):\n",
    "        self.name = name\n",
    "        self.history: List[str] = []\n",
    "\n",
    "    def respond(self, input_text: str) -> str:\n",
    "        if self.name == \"Logos\":\n",
    "            response = f\"[LOGOS]: To clarify: {input_text} → [Structured analysis follows.]\"\n",
    "        elif self.name == \"Mythos\":\n",
    "            metaphors = [\"a drifting fog\", \"a river turning in dream\", \"a shadow that teaches\"]\n",
    "            response = f\"[MYTHOS]: Like {random.choice(metaphors)}, it moves. This means: {input_text}\"\n",
    "        else:\n",
    "            response = f\"[{self.name.upper()}]: No response logic defined.\"\n",
    "\n",
    "        self.history.append(response)\n",
    "        return response"
   ]
  },
  {
   "cell_type": "markdown",
   "id": "e2396b50",
   "metadata": {},
   "source": [
    "## Sophion Intervention Logic"
   ]
  },
  {
   "cell_type": "code",
   "execution_count": null,
   "id": "f059f286",
   "metadata": {},
   "outputs": [],
   "source": [
    "def sophion_intervene(logos_history: List[str], mythos_history: List[str], turn: int, total_turns: int) -> str:\n",
    "    if turn == total_turns:\n",
    "        return f\"[SOPHION]: After witnessing the full arc, I say this — the truth emerged not in statement, but in exchange. This was a rite, not a debate.\"\n",
    "    elif turn == total_turns // 2:\n",
    "        return f\"[SOPHION]: Midway, the dialogue turns. Pay attention not to the words, but to the **shape** of their dance.\"\n",
    "    else:\n",
    "        return \"\""
   ]
  },
  {
   "cell_type": "markdown",
   "id": "c66809ff",
   "metadata": {},
   "source": [
    "## Dialogue Engine"
   ]
  },
  {
   "cell_type": "code",
   "execution_count": null,
   "id": "d853389c",
   "metadata": {},
   "outputs": [],
   "source": [
    "def mcgilchrist_mk4_dialogue(prompt: str, rounds: int = 4) -> Dict[str, List[str]]:\n",
    "    logos = Agent(\"Logos\")\n",
    "    mythos = Agent(\"Mythos\")\n",
    "    sophion_comments = []\n",
    "\n",
    "    dialogue_log = {\n",
    "        \"Prompt\": prompt,\n",
    "        \"Logos\": [],\n",
    "        \"Mythos\": [],\n",
    "        \"Sophion\": []\n",
    "    }\n",
    "\n",
    "    current_input = prompt\n",
    "\n",
    "    for turn in range(1, rounds + 1):\n",
    "        logos_response = logos.respond(current_input)\n",
    "        mythos_response = mythos.respond(logos_response)\n",
    "\n",
    "        dialogue_log[\"Logos\"].append(logos_response)\n",
    "        dialogue_log[\"Mythos\"].append(mythos_response)\n",
    "\n",
    "        sophion_response = sophion_intervene(logos.history, mythos.history, turn, rounds)\n",
    "        if sophion_response:\n",
    "            sophion_comments.append(sophion_response)\n",
    "            dialogue_log[\"Sophion\"].append(sophion_response)\n",
    "\n",
    "        current_input = mythos_response\n",
    "\n",
    "    return dialogue_log"
   ]
  },
  {
   "cell_type": "markdown",
   "id": "d42c6e40",
   "metadata": {},
   "source": [
    "## Example Execution"
   ]
  },
  {
   "cell_type": "code",
   "execution_count": null,
   "id": "4803cf51",
   "metadata": {},
   "outputs": [],
   "source": [
    "if __name__ == \"__main__\":\n",
    "    prompt = \"What is freedom?\"\n",
    "    dialogue = mcgilchrist_mk4_dialogue(prompt, rounds=4)\n",
    "\n",
    "    for role, outputs in dialogue.items():\n",
    "        print(f\"--- {role} ---\")\n",
    "        if isinstance(outputs, list):\n",
    "            for line in outputs:\n",
    "                print(line)\n",
    "        else:\n",
    "            print(outputs)\n",
    "        print()"
   ]
  }
 ],
 "metadata": {},
 "nbformat": 4,
 "nbformat_minor": 5
}
