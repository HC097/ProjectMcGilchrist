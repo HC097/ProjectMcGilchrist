{
 "cells": [
  {
   "cell_type": "markdown",
   "id": "441275f9",
   "metadata": {},
   "source": [
    "# Project McGilchrist – Mk11 Prototype\n",
    "**Persistent Memory Graph with Symbolic Continuity and Thread Recall**"
   ]
  },
  {
   "cell_type": "code",
   "execution_count": null,
   "id": "f50d8dcb",
   "metadata": {},
   "outputs": [],
   "source": [
    "from typing import Dict, List, Literal\n",
    "import random"
   ]
  },
  {
   "cell_type": "markdown",
   "id": "dd3131e5",
   "metadata": {},
   "source": [
    "## Message Class"
   ]
  },
  {
   "cell_type": "code",
   "execution_count": null,
   "id": "07c03315",
   "metadata": {},
   "outputs": [],
   "source": [
    "class Message:\n",
    "    def __init__(self, sender: str, recipient: str, content: str, tone: str, intent: str):\n",
    "        self.sender = sender\n",
    "        self.recipient = recipient\n",
    "        self.content = content\n",
    "        self.tone = tone\n",
    "        self.intent = intent\n",
    "\n",
    "    def __repr__(self):\n",
    "        return f\"Message({self.sender} → {self.recipient} | Tone: {self.tone}, Intent: {self.intent}): {self.content}\""
   ]
  },
  {
   "cell_type": "markdown",
   "id": "dc52e4e0",
   "metadata": {},
   "source": [
    "## Memory Graph"
   ]
  },
  {
   "cell_type": "code",
   "execution_count": null,
   "id": "bdd7d0fd",
   "metadata": {},
   "outputs": [],
   "source": [
    "class MemoryGraph:\n",
    "    def __init__(self):\n",
    "        self.sessions: Dict[str, List[Dict[str, str]]] = {}\n",
    "\n",
    "    def log_session(self, session_id: str, exchanges: List[Dict[str, str]], glyph: str):\n",
    "        self.sessions[session_id] = exchanges\n",
    "        self.sessions[session_id].append({\"Glyph\": glyph})\n",
    "\n",
    "    def recall_arc(self, glyph_keyword: str) -> str:\n",
    "        for sid, logs in self.sessions.items():\n",
    "            for entry in logs:\n",
    "                if isinstance(entry, dict) and 'Glyph' in entry and glyph_keyword in entry['Glyph']:\n",
    "                    return f\"[SOPHION]: Found echo in session '{sid}' – Glyph match: '{entry['Glyph']}'\"\n",
    "        return \"[SOPHION]: No prior glyph arc matches.\""
   ]
  },
  {
   "cell_type": "markdown",
   "id": "ddc4479f",
   "metadata": {},
   "source": [
    "## Intent and Tone Evolution"
   ]
  },
  {
   "cell_type": "code",
   "execution_count": null,
   "id": "89014f70",
   "metadata": {},
   "outputs": [],
   "source": [
    "def evolve_intent(last_intent: str, last_tone: str, responder: str) -> str:\n",
    "    if responder == \"Logos\":\n",
    "        return \"clarify\" if last_intent in [\"mirror\", \"dissolve\"] else \"challenge\"\n",
    "    if responder == \"Mythos\":\n",
    "        return \"mirror\" if last_tone in [\"firm\", \"rigid\"] else \"dissolve\"\n",
    "    return \"clarify\"\n",
    "\n",
    "def evolve_tone(current_tone: str, shift: int) -> str:\n",
    "    tones = [\"dissolved\", \"soft\", \"neutral\", \"firm\", \"rigid\"]\n",
    "    index = max(0, min(4, tones.index(current_tone) + shift))\n",
    "    return tones[index]"
   ]
  },
  {
   "cell_type": "markdown",
   "id": "0bf8c15f",
   "metadata": {},
   "source": [
    "## Simulated Agent Endpoints"
   ]
  },
  {
   "cell_type": "code",
   "execution_count": null,
   "id": "4639f2e7",
   "metadata": {},
   "outputs": [],
   "source": [
    "def logos_endpoint(message: Message) -> str:\n",
    "    return f\"[LOGOS API]: Reducing '{message.content}' to principle.\"\n",
    "\n",
    "def mythos_endpoint(message: Message) -> str:\n",
    "    metaphors = [\"a mirrored flame\", \"a bell in dusk\", \"a truth spoken backwards\"]\n",
    "    return f\"[MYTHOS API]: As {message.intent}, I whisper: '{random.choice(metaphors)} — {message.content.lower()}.'\""
   ]
  },
  {
   "cell_type": "markdown",
   "id": "631261dd",
   "metadata": {},
   "source": [
    "## Sophion Memory Mediator"
   ]
  },
  {
   "cell_type": "code",
   "execution_count": null,
   "id": "c6d32288",
   "metadata": {},
   "outputs": [],
   "source": [
    "class SophionMemory:\n",
    "    def __init__(self):\n",
    "        self.log: List[Message] = []\n",
    "        self.graph = MemoryGraph()\n",
    "\n",
    "    def dispatch(self, message: Message) -> str:\n",
    "        self.log.append(message)\n",
    "        return logos_endpoint(message) if message.recipient == \"Logos\" else mythos_endpoint(message)\n",
    "\n",
    "    def reflect_and_store(self, session_id: str) -> str:\n",
    "        arc = [f\"{m.sender}→{m.recipient} [{m.tone}/{m.intent}]\" for m in self.log]\n",
    "        glyph = \"The Spiral of Interwoven Voice\" if any(m.intent == \"mirror\" for m in self.log) else \"The Edge of Clarity\"\n",
    "        exchanges = [{\"Exchange\": entry} for entry in arc]\n",
    "        self.graph.log_session(session_id, exchanges, glyph)\n",
    "        return f\"[SOPHION]: Session '{session_id}' sealed. Glyph: '{glyph}'\"\n",
    "\n",
    "    def recall_by_glyph(self, keyword: str) -> str:\n",
    "        return self.graph.recall_arc(keyword)"
   ]
  },
  {
   "cell_type": "markdown",
   "id": "19526ff0",
   "metadata": {},
   "source": [
    "## Dialogue Engine"
   ]
  },
  {
   "cell_type": "code",
   "execution_count": null,
   "id": "f3fa8e9a",
   "metadata": {},
   "outputs": [],
   "source": [
    "def mcgilchrist_mk11_dialogue(prompt: str, rounds: int = 4, session_id: str = \"Session_01\") -> Dict[str, List[str]]:\n",
    "    logos_tone, mythos_tone = \"firm\", \"soft\"\n",
    "    logos_intent, mythos_intent = \"challenge\", \"mirror\"\n",
    "    last_logos, last_mythos = \"\", prompt\n",
    "\n",
    "    sophion = SophionMemory()\n",
    "    dialogue_log = {\"Prompt\": prompt, \"Logos\": [], \"Mythos\": [], \"Sophion\": []}\n",
    "\n",
    "    for _ in range(rounds):\n",
    "        logos_intent = evolve_intent(mythos_intent, mythos_tone, \"Logos\")\n",
    "        logos_tone = evolve_tone(logos_tone, 1 if mythos_intent == \"dissolve\" else 0)\n",
    "        msg1 = Message(\"Logos\", \"Mythos\", last_mythos, logos_tone, logos_intent)\n",
    "        dialogue_log[\"Logos\"].append(sophion.dispatch(msg1))\n",
    "\n",
    "        mythos_intent = evolve_intent(logos_intent, logos_tone, \"Mythos\")\n",
    "        mythos_tone = evolve_tone(mythos_tone, -1 if logos_intent == \"challenge\" else 0)\n",
    "        msg2 = Message(\"Mythos\", \"Logos\", last_logos, mythos_tone, mythos_intent)\n",
    "        dialogue_log[\"Mythos\"].append(sophion.dispatch(msg2))\n",
    "\n",
    "        last_logos = msg1.content\n",
    "        last_mythos = msg2.content\n",
    "\n",
    "    summary = sophion.reflect_and_store(session_id)\n",
    "    dialogue_log[\"Sophion\"].append(summary)\n",
    "    recall = sophion.recall_by_glyph(\"Spiral\")\n",
    "    dialogue_log[\"Sophion\"].append(recall)\n",
    "\n",
    "    return dialogue_log"
   ]
  },
  {
   "cell_type": "markdown",
   "id": "147f2a10",
   "metadata": {},
   "source": [
    "## Example Execution"
   ]
  },
  {
   "cell_type": "code",
   "execution_count": null,
   "id": "1454a487",
   "metadata": {},
   "outputs": [],
   "source": [
    "if __name__ == \"__main__\":\n",
    "    prompt = \"What is the essence of memory?\"\n",
    "    dialogue = mcgilchrist_mk11_dialogue(prompt, rounds=4, session_id=\"Session_Mk11\")\n",
    "\n",
    "    for role, outputs in dialogue.items():\n",
    "        print(f\"--- {role} ---\")\n",
    "        for line in outputs:\n",
    "            print(line)\n",
    "        print()"
   ]
  }
 ],
 "metadata": {},
 "nbformat": 4,
 "nbformat_minor": 5
}
