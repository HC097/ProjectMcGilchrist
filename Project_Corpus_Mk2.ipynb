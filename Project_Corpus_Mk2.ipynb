{
 "cells": [
  {
   "cell_type": "markdown",
   "metadata": {},
   "source": [
    "# 🧠 Project Corpus Mk2 Prototype\n",
    "An evolution of the dual-hemisphere system with conversational interaction and synthesis.\n",
    "\n",
    "**Features:**\n",
    "- Modular hemispheres as agents\n",
    "- Hemispheres respond to each other\n",
    "- Corpus Callosum synthesizes or highlights conflicts\n",
    "\n",
    "Enter a prompt below to initiate internal dialogue."
   ]
  },
  {
   "cell_type": "code",
   "execution_count": 1,
   "metadata": {},
   "outputs": [],
   "source": [
    "# User input prompt\n",
    "user_prompt = \"What is time?\""
   ]
  },
  {
   "cell_type": "code",
   "execution_count": 2,
   "metadata": {},
   "outputs": [],
   "source": [
    "# Left Hemisphere Agent\n",
    "def left_brain(prompt, other_response=None):\n",
    "    base_response = (\n",
    "        f\"[Left Hemisphere] Time is the measurable progression of events \"\n",
    "        f\"from past to future, typically quantified by instruments such as clocks.\"\n",
    "    )\n",
    "    if other_response:\n",
    "        base_response += f\"\\nWhile poetic musings are evocative, time in practice remains a quantifiable framework.\"\n",
    "    return base_response"
   ]
  },
  {
   "cell_type": "code",
   "execution_count": 3,
   "metadata": {},
   "outputs": [],
   "source": [
    "# Right Hemisphere Agent\n",
    "def right_brain(prompt, other_response=None):\n",
    "    base_response = (\n",
    "        f\"[Right Hemisphere] Time is a shadow cast by memory, a rhythm that slips \"\n",
    "        f\"between the notes of experience.\"\n",
    "    )\n",
    "    if other_response:\n",
    "        base_response += f\"\\nWhile analysis may bind time to metrics, its soul lies in the ebb of lived moments.\"\n",
    "    return base_response"
   ]
  },
  {
   "cell_type": "code",
   "execution_count": 4,
   "metadata": {},
   "outputs": [
    {
     "name": "stdout",
     "output_type": "stream",
     "text": [
      "=== Corpus Callosum Synthesis ===\n",
      "\n",
      "[Left Hemisphere] Time is the measurable progression of events from past to future, typically quantified by instruments such as clocks.\n",
      "While poetic musings are evocative, time in practice remains a quantifiable framework.\n",
      "\n",
      "[Right Hemisphere] Time is a shadow cast by memory, a rhythm that slips between the notes of experience.\n",
      "While analysis may bind time to metrics, its soul lies in the ebb of lived moments.\n",
      "\n",
      "Both responses acknowledge time as a central organizing force — whether measured or remembered.\n"
     ]
    }
   ],
   "source": [
    "# Corpus Callosum Synthesis Engine\n",
    "def corpus_callosum(left_response, right_response):\n",
    "    agreement = \"Both responses acknowledge time as a central organizing force — \" \\\n",
    "                \"whether measured or remembered.\"\n",
    "    return f\"=== Corpus Callosum Synthesis ===\\n\\n{left_response}\\n\\n{right_response}\\n\\n{agreement}\"\n",
    "\n",
    "# Simulate internal dialogue\n",
    "r1 = right_brain(user_prompt)\n",
    "l1 = left_brain(user_prompt, r1)\n",
    "r2 = right_brain(user_prompt, l1)\n",
    "\n",
    "print(corpus_callosum(l1, r2))"
   ]
  },
  {
   "cell_type": "code",
   "execution_count": null,
   "metadata": {},
   "outputs": [],
   "source": []
  }
 ],
 "metadata": {
  "kernelspec": {
   "display_name": "Python 3 (ipykernel)",
   "language": "python",
   "name": "python3"
  },
  "language_info": {
   "codemirror_mode": {
    "name": "ipython",
    "version": 3
   },
   "file_extension": ".py",
   "mimetype": "text/x-python",
   "name": "python",
   "nbconvert_exporter": "python",
   "pygments_lexer": "ipython3",
   "version": "3.12.7"
  }
 },
 "nbformat": 4,
 "nbformat_minor": 4
}
