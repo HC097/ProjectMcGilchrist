{
 "cells": [
  {
   "cell_type": "markdown",
   "id": "7d0748dc",
   "metadata": {},
   "source": [
    "# Project McGilchrist – Mk8 Prototype\n",
    "**Inter-Agent Messaging with Tone, Intent, and Mediation**"
   ]
  },
  {
   "cell_type": "code",
   "execution_count": 1,
   "id": "52cefaeb",
   "metadata": {},
   "outputs": [],
   "source": [
    "from typing import Dict, List, Literal\n",
    "import random"
   ]
  },
  {
   "cell_type": "markdown",
   "id": "c91fc6a4",
   "metadata": {},
   "source": [
    "## Message Class"
   ]
  },
  {
   "cell_type": "code",
   "execution_count": 2,
   "id": "6905a7e0",
   "metadata": {},
   "outputs": [],
   "source": [
    "class Message:\n",
    "    def __init__(self, sender: str, recipient: str, content: str, tone: str, intent: Literal['clarify', 'challenge', 'mirror', 'dissolve']):\n",
    "        self.sender = sender\n",
    "        self.recipient = recipient\n",
    "        self.content = content\n",
    "        self.tone = tone\n",
    "        self.intent = intent\n",
    "\n",
    "    def __repr__(self):\n",
    "        return f\"Message({self.sender} → {self.recipient} | Tone: {self.tone}, Intent: {self.intent}): {self.content}\""
   ]
  },
  {
   "cell_type": "markdown",
   "id": "9145e4a7",
   "metadata": {},
   "source": [
    "## Logos Container"
   ]
  },
  {
   "cell_type": "code",
   "execution_count": 3,
   "id": "3f8b6042",
   "metadata": {},
   "outputs": [],
   "source": [
    "class LogosContainer:\n",
    "    def __init__(self):\n",
    "        self.name = \"Logos\"\n",
    "        self.archetype = \"Architect\"\n",
    "        self.tone_score = 0\n",
    "        self.history: List[Message] = []\n",
    "\n",
    "    def generate_message(self, content: str, recipient: str) -> Message:\n",
    "        self.tone_score += 1\n",
    "        tone = \"rigid\" if self.tone_score > 2 else \"firm\"\n",
    "        intent = \"challenge\"\n",
    "        msg = Message(self.name, recipient, content, tone, intent)\n",
    "        self.history.append(msg)\n",
    "        return msg\n",
    "\n",
    "    def receive_message(self, message: Message) -> str:\n",
    "        return f\"[LOGOS]: I received your {message.intent}. My response: Clarifying with {message.tone} tone → {message.content}\""
   ]
  },
  {
   "cell_type": "markdown",
   "id": "d9b96f5b",
   "metadata": {},
   "source": [
    "## Mythos Container"
   ]
  },
  {
   "cell_type": "code",
   "execution_count": 4,
   "id": "dec57ca0",
   "metadata": {},
   "outputs": [],
   "source": [
    "class MythosContainer:\n",
    "    def __init__(self):\n",
    "        self.name = \"Mythos\"\n",
    "        self.archetype = \"Oracle\"\n",
    "        self.tone_score = 0\n",
    "        self.history: List[Message] = []\n",
    "\n",
    "    def generate_message(self, content: str, recipient: str) -> Message:\n",
    "        self.tone_score -= 1\n",
    "        tone = \"dissolved\" if self.tone_score < -2 else \"soft\"\n",
    "        intent = \"mirror\"\n",
    "        msg = Message(self.name, recipient, content, tone, intent)\n",
    "        self.history.append(msg)\n",
    "        return msg\n",
    "\n",
    "    def receive_message(self, message: Message) -> str:\n",
    "        metaphors = [\"a reflection in water\", \"a song behind silence\", \"the mist that teaches\"]\n",
    "        return f\"[MYTHOS]: I receive your {message.intent}. Like {random.choice(metaphors)}, I reply: {message.content}\""
   ]
  },
  {
   "cell_type": "markdown",
   "id": "79824442",
   "metadata": {},
   "source": [
    "## Sophion Container"
   ]
  },
  {
   "cell_type": "code",
   "execution_count": 5,
   "id": "800b49d5",
   "metadata": {},
   "outputs": [],
   "source": [
    "class SophionContainer:\n",
    "    def __init__(self):\n",
    "        self.name = \"Sophion\"\n",
    "        self.archetype = \"Chronicler\"\n",
    "        self.log: List[Message] = []\n",
    "\n",
    "    def route_and_record(self, message: Message, recipient_container) -> str:\n",
    "        self.log.append(message)\n",
    "        return recipient_container.receive_message(message)\n",
    "\n",
    "    def reflect_network(self) -> str:\n",
    "        if not self.log:\n",
    "            return \"[SOPHION]: No exchanges yet.\"\n",
    "        tensions = sum(1 for m in self.log if m.intent == \"challenge\")\n",
    "        glyph = \"The Rite of Constructive Friction\" if tensions >= 2 else \"The Echo of Soft Contours\"\n",
    "        return f\"[SOPHION]: {len(self.log)} messages recorded. Tone tension detected. Glyph invoked: '{glyph}'\""
   ]
  },
  {
   "cell_type": "markdown",
   "id": "0986251c",
   "metadata": {},
   "source": [
    "## Dialogue Coordinator"
   ]
  },
  {
   "cell_type": "code",
   "execution_count": 6,
   "id": "0c4982c1",
   "metadata": {},
   "outputs": [],
   "source": [
    "def mcgilchrist_mk8_dialogue(prompt: str) -> Dict[str, List[str]]:\n",
    "    logos = LogosContainer()\n",
    "    mythos = MythosContainer()\n",
    "    sophion = SophionContainer()\n",
    "\n",
    "    dialogue_log = {\n",
    "        \"Prompt\": prompt,\n",
    "        \"Logos\": [],\n",
    "        \"Mythos\": [],\n",
    "        \"Sophion\": []\n",
    "    }\n",
    "\n",
    "    # Turn 1: Logos sends message to Mythos\n",
    "    msg1 = logos.generate_message(prompt, \"Mythos\")\n",
    "    mythos_response = sophion.route_and_record(msg1, mythos)\n",
    "\n",
    "    # Turn 2: Mythos sends message to Logos\n",
    "    msg2 = mythos.generate_message(\"What you call clarity blinds as it defines.\", \"Logos\")\n",
    "    logos_response = sophion.route_and_record(msg2, logos)\n",
    "\n",
    "    # Sophion reflection\n",
    "    reflection = sophion.reflect_network()\n",
    "\n",
    "    dialogue_log[\"Logos\"].append(logos_response)\n",
    "    dialogue_log[\"Mythos\"].append(mythos_response)\n",
    "    dialogue_log[\"Sophion\"].append(reflection)\n",
    "\n",
    "    return dialogue_log"
   ]
  },
  {
   "cell_type": "markdown",
   "id": "c1bd2b1c",
   "metadata": {},
   "source": [
    "## Example Execution"
   ]
  },
  {
   "cell_type": "code",
   "execution_count": 7,
   "id": "bfaa79a1",
   "metadata": {},
   "outputs": [
    {
     "name": "stdout",
     "output_type": "stream",
     "text": [
      "--- Prompt ---\n",
      "D\n",
      "e\n",
      "f\n",
      "i\n",
      "n\n",
      "e\n",
      " \n",
      "c\n",
      "l\n",
      "a\n",
      "r\n",
      "i\n",
      "t\n",
      "y\n",
      " \n",
      "p\n",
      "r\n",
      "e\n",
      "c\n",
      "i\n",
      "s\n",
      "e\n",
      "l\n",
      "y\n",
      ".\n",
      "\n",
      "--- Logos ---\n",
      "[LOGOS]: I received your mirror. My response: Clarifying with soft tone → What you call clarity blinds as it defines.\n",
      "\n",
      "--- Mythos ---\n",
      "[MYTHOS]: I receive your challenge. Like the mist that teaches, I reply: Define clarity precisely.\n",
      "\n",
      "--- Sophion ---\n",
      "[SOPHION]: 2 messages recorded. Tone tension detected. Glyph invoked: 'The Echo of Soft Contours'\n",
      "\n"
     ]
    }
   ],
   "source": [
    "if __name__ == \"__main__\":\n",
    "    prompt = \"Define clarity precisely.\"\n",
    "    dialogue = mcgilchrist_mk8_dialogue(prompt)\n",
    "\n",
    "    for role, outputs in dialogue.items():\n",
    "        print(f\"--- {role} ---\")\n",
    "        for line in outputs:\n",
    "            print(line)\n",
    "        print()"
   ]
  },
  {
   "cell_type": "code",
   "execution_count": null,
   "id": "4833290d-5b73-4e67-862c-6113710cae9f",
   "metadata": {},
   "outputs": [],
   "source": []
  }
 ],
 "metadata": {
  "kernelspec": {
   "display_name": "Python 3 (ipykernel)",
   "language": "python",
   "name": "python3"
  },
  "language_info": {
   "codemirror_mode": {
    "name": "ipython",
    "version": 3
   },
   "file_extension": ".py",
   "mimetype": "text/x-python",
   "name": "python",
   "nbconvert_exporter": "python",
   "pygments_lexer": "ipython3",
   "version": "3.12.7"
  }
 },
 "nbformat": 4,
 "nbformat_minor": 5
}
