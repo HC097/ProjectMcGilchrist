{
 "cells": [
  {
   "cell_type": "markdown",
   "id": "847e2bde",
   "metadata": {},
   "source": [
    "# Project McGilchrist – Mk5 Prototype\n",
    "**Recursive Dialogue with Emotional Modulation and Memory Seals**"
   ]
  },
  {
   "cell_type": "code",
   "execution_count": null,
   "id": "6454a272",
   "metadata": {},
   "outputs": [],
   "source": [
    "from typing import Dict, List\n",
    "import random"
   ]
  },
  {
   "cell_type": "markdown",
   "id": "50665621",
   "metadata": {},
   "source": [
    "## Agent Class with Tone Memory"
   ]
  },
  {
   "cell_type": "code",
   "execution_count": null,
   "id": "1d54798d",
   "metadata": {},
   "outputs": [],
   "source": [
    "class Agent:\n",
    "    def __init__(self, name: str):\n",
    "        self.name = name\n",
    "        self.history: List[str] = []\n",
    "        self.tone_score: int = 0\n",
    "\n",
    "    def respond(self, input_text: str) -> str:\n",
    "        if self.name == \"Logos\":\n",
    "            self.tone_score += 1\n",
    "            prefix = \"To clarify with precision:\" if self.tone_score > 2 else \"To clarify:\"\n",
    "            response = f\"[LOGOS]: {prefix} {input_text} → [Structured analysis follows.]\"\n",
    "        elif self.name == \"Mythos\":\n",
    "            self.tone_score -= 1\n",
    "            metaphors = [\"a drifting fog\", \"a river turning in dream\", \"a shadow that teaches\"]\n",
    "            tone = \"barely audible\" if self.tone_score < -2 else \"like\"\n",
    "            response = f\"[MYTHOS]: {tone} {random.choice(metaphors)}, this means: {input_text}\"\n",
    "        else:\n",
    "            response = f\"[{self.name.upper()}]: No response logic defined.\"\n",
    "\n",
    "        self.history.append(response)\n",
    "        return response"
   ]
  },
  {
   "cell_type": "markdown",
   "id": "0a4a2e1c",
   "metadata": {},
   "source": [
    "## Sophion's Tone-Aware Interventions"
   ]
  },
  {
   "cell_type": "code",
   "execution_count": null,
   "id": "91129fd1",
   "metadata": {},
   "outputs": [],
   "source": [
    "def sophion_intervene(logos: Agent, mythos: Agent, turn: int, total_turns: int) -> str:\n",
    "    net_tone = logos.tone_score + mythos.tone_score\n",
    "    if turn == total_turns:\n",
    "        if net_tone > 2:\n",
    "            seal = \"The Rite of Confronted Clarity\"\n",
    "        elif net_tone < -2:\n",
    "            seal = \"The Rite of Dissolving Frames\"\n",
    "        else:\n",
    "            seal = \"The Rite of Listening Tension\"\n",
    "        return f\"[SOPHION]: This dialogue concludes under the seal: '{seal}'. Tone divergence encoded.\"\n",
    "    elif turn == total_turns // 2:\n",
    "        return f\"[SOPHION]: Mid-dialogue drift noted. Logos at {logos.tone_score}, Mythos at {mythos.tone_score}.\"\n",
    "    else:\n",
    "        return \"\""
   ]
  },
  {
   "cell_type": "markdown",
   "id": "8707bf1a",
   "metadata": {},
   "source": [
    "## Dialogue Engine"
   ]
  },
  {
   "cell_type": "code",
   "execution_count": null,
   "id": "1162fbbd",
   "metadata": {},
   "outputs": [],
   "source": [
    "def mcgilchrist_mk5_dialogue(prompt: str, rounds: int = 4) -> Dict[str, List[str]]:\n",
    "    logos = Agent(\"Logos\")\n",
    "    mythos = Agent(\"Mythos\")\n",
    "\n",
    "    dialogue_log = {\n",
    "        \"Prompt\": prompt,\n",
    "        \"Logos\": [],\n",
    "        \"Mythos\": [],\n",
    "        \"Sophion\": []\n",
    "    }\n",
    "\n",
    "    current_input = prompt\n",
    "\n",
    "    for turn in range(1, rounds + 1):\n",
    "        logos_response = logos.respond(current_input)\n",
    "        mythos_response = mythos.respond(logos_response)\n",
    "\n",
    "        dialogue_log[\"Logos\"].append(logos_response)\n",
    "        dialogue_log[\"Mythos\"].append(mythos_response)\n",
    "\n",
    "        sophion_response = sophion_intervene(logos, mythos, turn, rounds)\n",
    "        if sophion_response:\n",
    "            dialogue_log[\"Sophion\"].append(sophion_response)\n",
    "\n",
    "        current_input = mythos_response\n",
    "\n",
    "    return dialogue_log"
   ]
  },
  {
   "cell_type": "markdown",
   "id": "fab9a756",
   "metadata": {},
   "source": [
    "## Example Execution"
   ]
  },
  {
   "cell_type": "code",
   "execution_count": null,
   "id": "0948b015",
   "metadata": {},
   "outputs": [],
   "source": [
    "if __name__ == \"__main__\":\n",
    "    prompt = \"What is freedom?\"\n",
    "    dialogue = mcgilchrist_mk5_dialogue(prompt, rounds=4)\n",
    "\n",
    "    for role, outputs in dialogue.items():\n",
    "        print(f\"--- {role} ---\")\n",
    "        if isinstance(outputs, list):\n",
    "            for line in outputs:\n",
    "                print(line)\n",
    "        else:\n",
    "            print(outputs)\n",
    "        print()"
   ]
  }
 ],
 "metadata": {},
 "nbformat": 4,
 "nbformat_minor": 5
}
