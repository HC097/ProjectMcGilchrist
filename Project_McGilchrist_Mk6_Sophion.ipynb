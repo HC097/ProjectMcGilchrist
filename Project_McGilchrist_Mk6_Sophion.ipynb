{
 "cells": [
  {
   "cell_type": "markdown",
   "id": "f9811999",
   "metadata": {},
   "source": [
    "# Project McGilchrist – Mk6 Prototype\n",
    "**Symbolic Dialogue Engine with Archetypes, Glyphs, and Invocation Recognition**"
   ]
  },
  {
   "cell_type": "code",
   "execution_count": 1,
   "id": "345dbf33",
   "metadata": {},
   "outputs": [],
   "source": [
    "from typing import Dict, List\n",
    "import random"
   ]
  },
  {
   "cell_type": "markdown",
   "id": "e893ff9c",
   "metadata": {},
   "source": [
    "## Agent Class with Archetypes and Tone Memory"
   ]
  },
  {
   "cell_type": "code",
   "execution_count": 2,
   "id": "ab24aa3f",
   "metadata": {},
   "outputs": [],
   "source": [
    "class Agent:\n",
    "    def __init__(self, name: str, archetype: str):\n",
    "        self.name = name\n",
    "        self.archetype = archetype\n",
    "        self.history: List[str] = []\n",
    "        self.tone_score: int = 0\n",
    "\n",
    "    def respond(self, input_text: str) -> str:\n",
    "        if self.name == \"Logos\":\n",
    "            self.tone_score += 1\n",
    "            tone = \"rigid clarity\" if self.tone_score > 2 else \"firm clarity\"\n",
    "            response = f\"[LOGOS – The {self.archetype}]: In the name of {tone}, I say: {input_text} → [Structured reasoning follows.]\"\n",
    "        elif self.name == \"Mythos\":\n",
    "            self.tone_score -= 1\n",
    "            metaphors = [\"a sun behind clouds\", \"a bell rung in shadow\", \"a flame within a mirror\"]\n",
    "            tone = \"distant echo\" if self.tone_score < -2 else \"whispered light\"\n",
    "            response = f\"[MYTHOS – The {self.archetype}]: As {tone}, I speak: {random.choice(metaphors)} — {input_text}\"\n",
    "        else:\n",
    "            response = f\"[{self.name.upper()}]: No response logic defined.\"\n",
    "\n",
    "        self.history.append(response)\n",
    "        return response"
   ]
  },
  {
   "cell_type": "markdown",
   "id": "0f6a1f10",
   "metadata": {},
   "source": [
    "## Sophion Class with Glyph and Invocation Logic"
   ]
  },
  {
   "cell_type": "code",
   "execution_count": 3,
   "id": "34e79717",
   "metadata": {},
   "outputs": [],
   "source": [
    "class Sophion:\n",
    "    def __init__(self):\n",
    "        self.glyphs: List[str] = []\n",
    "\n",
    "    def intervene(self, logos: Agent, mythos: Agent, turn: int, total_turns: int, invocation: str) -> str:\n",
    "        if invocation == \"seal\":\n",
    "            phrase = self._extract_phrase(mythos)\n",
    "            self.glyphs.append(phrase)\n",
    "            return f\"[SOPHION – The Chronicler]: This dialogue is sealed as 'The Rite of {self._name_from_phrase(phrase)}.' Glyph encoded: '{phrase}'\"\n",
    "        elif invocation == \"echo\":\n",
    "            echo = self.glyphs[-1] if self.glyphs else \"(no glyph memory available)\"\n",
    "            return f\"[SOPHION – The Chronicler]: Echo invoked. Last glyph recalled: '{echo}'\"\n",
    "        elif invocation == \"forget\":\n",
    "            self.glyphs.clear()\n",
    "            return f\"[SOPHION – The Chronicler]: Memory burned. Glyphs erased. Continuity severed.\"\n",
    "        elif turn == total_turns:\n",
    "            return f\"[SOPHION – The Chronicler]: This concludes with tone drift: Logos {logos.tone_score}, Mythos {mythos.tone_score}.\"\n",
    "        return \"\"\n",
    "\n",
    "    def _extract_phrase(self, mythos: Agent) -> str:\n",
    "        last = mythos.history[-1] if mythos.history else \"unspecified insight\"\n",
    "        return last.split(\"—\")[-1].strip().rstrip('.')\n",
    "\n",
    "    def _name_from_phrase(self, phrase: str) -> str:\n",
    "        core = phrase.split()[0:3]\n",
    "        return \" \".join(word.capitalize() for word in core)"
   ]
  },
  {
   "cell_type": "markdown",
   "id": "9af5ea3e",
   "metadata": {},
   "source": [
    "## Dialogue Engine with Invocation Handling"
   ]
  },
  {
   "cell_type": "code",
   "execution_count": 4,
   "id": "5ca0a52d",
   "metadata": {},
   "outputs": [],
   "source": [
    "def mcgilchrist_mk6_dialogue(prompt: str, rounds: int = 4) -> Dict[str, List[str]]:\n",
    "    invocation = None\n",
    "    if prompt.lower().strip().endswith(\"seal this\"):\n",
    "        invocation = \"seal\"\n",
    "        prompt = prompt.replace(\"Seal this\", \"\").strip()\n",
    "    elif prompt.lower().strip().endswith(\"echo that\"):\n",
    "        invocation = \"echo\"\n",
    "        prompt = prompt.replace(\"Echo that\", \"\").strip()\n",
    "    elif prompt.lower().strip().endswith(\"forget this\"):\n",
    "        invocation = \"forget\"\n",
    "        prompt = prompt.replace(\"Forget this\", \"\").strip()\n",
    "\n",
    "    logos = Agent(\"Logos\", \"Architect\")\n",
    "    mythos = Agent(\"Mythos\", \"Oracle\")\n",
    "    sophion = Sophion()\n",
    "\n",
    "    dialogue_log = {\n",
    "        \"Prompt\": prompt,\n",
    "        \"Logos\": [],\n",
    "        \"Mythos\": [],\n",
    "        \"Sophion\": []\n",
    "    }\n",
    "\n",
    "    current_input = prompt\n",
    "\n",
    "    for turn in range(1, rounds + 1):\n",
    "        logos_response = logos.respond(current_input)\n",
    "        mythos_response = mythos.respond(logos_response)\n",
    "\n",
    "        dialogue_log[\"Logos\"].append(logos_response)\n",
    "        dialogue_log[\"Mythos\"].append(mythos_response)\n",
    "\n",
    "        sophion_response = sophion.intervene(logos, mythos, turn, rounds, invocation if turn == rounds else \"\")\n",
    "        if sophion_response:\n",
    "            dialogue_log[\"Sophion\"].append(sophion_response)\n",
    "\n",
    "        current_input = mythos_response\n",
    "\n",
    "    return dialogue_log"
   ]
  },
  {
   "cell_type": "markdown",
   "id": "1a780bc4",
   "metadata": {},
   "source": [
    "## Example Execution"
   ]
  },
  {
   "cell_type": "code",
   "execution_count": 5,
   "id": "55b901bd",
   "metadata": {},
   "outputs": [
    {
     "name": "stdout",
     "output_type": "stream",
     "text": [
      "--- Prompt ---\n",
      "What is the cost of clarity?\n",
      "\n",
      "--- Logos ---\n",
      "[LOGOS – The Architect]: In the name of firm clarity, I say: What is the cost of clarity? → [Structured reasoning follows.]\n",
      "[LOGOS – The Architect]: In the name of firm clarity, I say: [MYTHOS – The Oracle]: As whispered light, I speak: a flame within a mirror — [LOGOS – The Architect]: In the name of firm clarity, I say: What is the cost of clarity? → [Structured reasoning follows.] → [Structured reasoning follows.]\n",
      "[LOGOS – The Architect]: In the name of rigid clarity, I say: [MYTHOS – The Oracle]: As whispered light, I speak: a sun behind clouds — [LOGOS – The Architect]: In the name of firm clarity, I say: [MYTHOS – The Oracle]: As whispered light, I speak: a flame within a mirror — [LOGOS – The Architect]: In the name of firm clarity, I say: What is the cost of clarity? → [Structured reasoning follows.] → [Structured reasoning follows.] → [Structured reasoning follows.]\n",
      "[LOGOS – The Architect]: In the name of rigid clarity, I say: [MYTHOS – The Oracle]: As distant echo, I speak: a bell rung in shadow — [LOGOS – The Architect]: In the name of rigid clarity, I say: [MYTHOS – The Oracle]: As whispered light, I speak: a sun behind clouds — [LOGOS – The Architect]: In the name of firm clarity, I say: [MYTHOS – The Oracle]: As whispered light, I speak: a flame within a mirror — [LOGOS – The Architect]: In the name of firm clarity, I say: What is the cost of clarity? → [Structured reasoning follows.] → [Structured reasoning follows.] → [Structured reasoning follows.] → [Structured reasoning follows.]\n",
      "\n",
      "--- Mythos ---\n",
      "[MYTHOS – The Oracle]: As whispered light, I speak: a flame within a mirror — [LOGOS – The Architect]: In the name of firm clarity, I say: What is the cost of clarity? → [Structured reasoning follows.]\n",
      "[MYTHOS – The Oracle]: As whispered light, I speak: a sun behind clouds — [LOGOS – The Architect]: In the name of firm clarity, I say: [MYTHOS – The Oracle]: As whispered light, I speak: a flame within a mirror — [LOGOS – The Architect]: In the name of firm clarity, I say: What is the cost of clarity? → [Structured reasoning follows.] → [Structured reasoning follows.]\n",
      "[MYTHOS – The Oracle]: As distant echo, I speak: a bell rung in shadow — [LOGOS – The Architect]: In the name of rigid clarity, I say: [MYTHOS – The Oracle]: As whispered light, I speak: a sun behind clouds — [LOGOS – The Architect]: In the name of firm clarity, I say: [MYTHOS – The Oracle]: As whispered light, I speak: a flame within a mirror — [LOGOS – The Architect]: In the name of firm clarity, I say: What is the cost of clarity? → [Structured reasoning follows.] → [Structured reasoning follows.] → [Structured reasoning follows.]\n",
      "[MYTHOS – The Oracle]: As distant echo, I speak: a flame within a mirror — [LOGOS – The Architect]: In the name of rigid clarity, I say: [MYTHOS – The Oracle]: As distant echo, I speak: a bell rung in shadow — [LOGOS – The Architect]: In the name of rigid clarity, I say: [MYTHOS – The Oracle]: As whispered light, I speak: a sun behind clouds — [LOGOS – The Architect]: In the name of firm clarity, I say: [MYTHOS – The Oracle]: As whispered light, I speak: a flame within a mirror — [LOGOS – The Architect]: In the name of firm clarity, I say: What is the cost of clarity? → [Structured reasoning follows.] → [Structured reasoning follows.] → [Structured reasoning follows.] → [Structured reasoning follows.]\n",
      "\n",
      "--- Sophion ---\n",
      "[SOPHION – The Chronicler]: This dialogue is sealed as 'The Rite of [logos – The.' Glyph encoded: '[LOGOS – The Architect]: In the name of firm clarity, I say: What is the cost of clarity? → [Structured reasoning follows.] → [Structured reasoning follows.] → [Structured reasoning follows.] → [Structured reasoning follows.]'\n",
      "\n"
     ]
    }
   ],
   "source": [
    "if __name__ == \"__main__\":\n",
    "    prompt = \"What is the cost of clarity? Seal this\"\n",
    "    dialogue = mcgilchrist_mk6_dialogue(prompt, rounds=4)\n",
    "\n",
    "    for role, outputs in dialogue.items():\n",
    "        print(f\"--- {role} ---\")\n",
    "        if isinstance(outputs, list):\n",
    "            for line in outputs:\n",
    "                print(line)\n",
    "        else:\n",
    "            print(outputs)\n",
    "        print()"
   ]
  },
  {
   "cell_type": "code",
   "execution_count": null,
   "id": "314af305-c7ac-462a-9604-31dd60b089d2",
   "metadata": {},
   "outputs": [],
   "source": []
  }
 ],
 "metadata": {
  "kernelspec": {
   "display_name": "Python 3 (ipykernel)",
   "language": "python",
   "name": "python3"
  },
  "language_info": {
   "codemirror_mode": {
    "name": "ipython",
    "version": 3
   },
   "file_extension": ".py",
   "mimetype": "text/x-python",
   "name": "python",
   "nbconvert_exporter": "python",
   "pygments_lexer": "ipython3",
   "version": "3.12.7"
  }
 },
 "nbformat": 4,
 "nbformat_minor": 5
}
