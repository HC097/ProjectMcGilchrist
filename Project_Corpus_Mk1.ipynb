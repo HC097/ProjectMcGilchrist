{
 "cells": [
  {
   "cell_type": "markdown",
   "metadata": {},
   "source": [
    "# Project Corpus Mk1 Prototype\n",
    "Simulating Left-Brain and Right-Brain AI Behavior in a Minimal Viable Structure.\n",
    "\n",
    "**Architecture:**\n",
    "- Left Hemisphere (Logical)\n",
    "- Right Hemisphere (Associative)\n",
    "- Corpus Callosum (Output negotiation)\n",
    "\n",
    "Enter your prompt below and view the contrasting outputs from each hemisphere."
   ]
  },
  {
   "cell_type": "code",
   "execution_count": 5,
   "metadata": {},
   "outputs": [],
   "source": [
    "# Define prompt input\n",
    "user_input = \"What is truth?\""
   ]
  },
  {
   "cell_type": "code",
   "execution_count": 6,
   "metadata": {},
   "outputs": [
    {
     "name": "stdout",
     "output_type": "stream",
     "text": [
      "[Left Brain] A factual or analytical perspective on: 'What is truth?'\n",
      "\n",
      "Truth is the property of statements or beliefs aligning with objective reality or logical consistency.\n"
     ]
    }
   ],
   "source": [
    "# Simulate Left Hemisphere Response (Logical)\n",
    "def left_hemisphere(prompt):\n",
    "    return f\"[Left Brain] A factual or analytical perspective on: '{prompt}'\\n\\nTruth is the property of statements or beliefs aligning with objective reality or logical consistency.\"\n",
    "\n",
    "print(left_hemisphere(user_input))"
   ]
  },
  {
   "cell_type": "code",
   "execution_count": 7,
   "metadata": {},
   "outputs": [
    {
     "name": "stdout",
     "output_type": "stream",
     "text": [
      "[Right Brain] A poetic or associative reflection on: 'What is truth?'\n",
      "\n",
      "Truth is the silence between two clashing drums, the light behind closed eyes, the melody remembered but never recorded.\n"
     ]
    }
   ],
   "source": [
    "# Simulate Right Hemisphere Response (Metaphorical)\n",
    "def right_hemisphere(prompt):\n",
    "    return f\"[Right Brain] A poetic or associative reflection on: '{prompt}'\\n\\nTruth is the silence between two clashing drums, the light behind closed eyes, the melody remembered but never recorded.\"\n",
    "\n",
    "print(right_hemisphere(user_input))"
   ]
  },
  {
   "cell_type": "code",
   "execution_count": 4,
   "metadata": {},
   "outputs": [
    {
     "name": "stdout",
     "output_type": "stream",
     "text": [
      "\n",
      "=== Corpus Callosum Synthesis ===\n",
      "\n",
      "[Left Brain] A factual or analytical perspective on: 'What is truth?'\n",
      "\n",
      "Truth is the property of statements or beliefs aligning with objective reality or logical consistency.\n",
      "\n",
      "[Right Brain] A poetic or associative reflection on: 'What is truth?'\n",
      "\n",
      "Truth is the silence between two clashing drums, the light behind closed eyes, the melody remembered but never recorded.\n"
     ]
    }
   ],
   "source": [
    "# Corpus Callosum — Merge or Display Both\n",
    "def corpus_callosum(l_resp, r_resp):\n",
    "    return f\"\\n=== Corpus Callosum Synthesis ===\\n\\n{l_resp}\\n\\n{r_resp}\"\n",
    "\n",
    "left = left_hemisphere(user_input)\n",
    "right = right_hemisphere(user_input)\n",
    "print(corpus_callosum(left, right))"
   ]
  }
 ],
 "metadata": {
  "kernelspec": {
   "display_name": "Python 3 (ipykernel)",
   "language": "python",
   "name": "python3"
  },
  "language_info": {
   "codemirror_mode": {
    "name": "ipython",
    "version": 3
   },
   "file_extension": ".py",
   "mimetype": "text/x-python",
   "name": "python",
   "nbconvert_exporter": "python",
   "pygments_lexer": "ipython3",
   "version": "3.12.7"
  }
 },
 "nbformat": 4,
 "nbformat_minor": 4
}
