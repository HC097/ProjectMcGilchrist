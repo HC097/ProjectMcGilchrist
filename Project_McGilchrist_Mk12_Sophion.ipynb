{
 "cells": [
  {
   "cell_type": "markdown",
   "id": "dc5eb986",
   "metadata": {},
   "source": [
    "# Project McGilchrist – Mk12 Prototype\n",
    "**Resonance Engine with Symbol Compression and Legacy Imprints**"
   ]
  },
  {
   "cell_type": "code",
   "execution_count": 1,
   "id": "2aa97634",
   "metadata": {},
   "outputs": [],
   "source": [
    "from typing import Dict, List, Literal\n",
    "import random"
   ]
  },
  {
   "cell_type": "markdown",
   "id": "154d90d5",
   "metadata": {},
   "source": [
    "## Message Class"
   ]
  },
  {
   "cell_type": "code",
   "execution_count": 2,
   "id": "2c23ffd4",
   "metadata": {},
   "outputs": [],
   "source": [
    "class Message:\n",
    "    def __init__(self, sender: str, recipient: str, content: str, tone: str, intent: str):\n",
    "        self.sender = sender\n",
    "        self.recipient = recipient\n",
    "        self.content = content\n",
    "        self.tone = tone\n",
    "        self.intent = intent\n",
    "\n",
    "    def __repr__(self):\n",
    "        return f\"Message({self.sender} → {self.recipient} | Tone: {self.tone}, Intent: {self.intent}): {self.content}\""
   ]
  },
  {
   "cell_type": "markdown",
   "id": "175013cf",
   "metadata": {},
   "source": [
    "## Memory Graph + Resonance Compression"
   ]
  },
  {
   "cell_type": "code",
   "execution_count": 3,
   "id": "27f3b06f",
   "metadata": {},
   "outputs": [],
   "source": [
    "class MemoryGraph:\n",
    "    def __init__(self):\n",
    "        self.sessions: Dict[str, List[Dict[str, str]]] = {}\n",
    "\n",
    "    def log_session(self, session_id: str, exchanges: List[Dict[str, str]], glyph: str):\n",
    "        self.sessions[session_id] = exchanges + [{\"Glyph\": glyph}]\n",
    "\n",
    "    def compress_to_doctrine(self, session_id: str) -> str:\n",
    "        if session_id not in self.sessions:\n",
    "            return \"[SOPHION]: No such session.\"\n",
    "        glyphs = [e['Glyph'] for e in self.sessions[session_id] if 'Glyph' in e]\n",
    "        themes = [\"Friction\", \"Recursion\", \"Clarity\", \"Softness\", \"Defiance\"]\n",
    "        core = random.choice(themes)\n",
    "        return f\"Doctrine Node: 'Truth Through {core}' based on glyphs: {', '.join(glyphs)}\"\n",
    "\n",
    "    def compress_to_scroll(self, session_id: str) -> str:\n",
    "        if session_id not in self.sessions:\n",
    "            return \"[SOPHION]: No scroll available.\"\n",
    "        scroll = [f\"- {e['Exchange']}\" for e in self.sessions[session_id] if 'Exchange' in e]\n",
    "        glyphs = [e['Glyph'] for e in self.sessions[session_id] if 'Glyph' in e]\n",
    "        return \"\\n\".join([\"Scroll of Memory:\"] + scroll + [f\"Final Glyph: {glyphs[0]}\"])\n",
    "\n",
    "    def imprint_from_glyph(self, session_id: str) -> str:\n",
    "        if session_id in self.sessions:\n",
    "            for e in self.sessions[session_id]:\n",
    "                if 'Glyph' in e:\n",
    "                    return f\"Imprint: 'This dialogue bears the Rite of {e['Glyph']}'\"\n",
    "        return \"[SOPHION]: No glyph available for imprint.\""
   ]
  },
  {
   "cell_type": "markdown",
   "id": "7b10984d",
   "metadata": {},
   "source": [
    "## Endpoints and Evolution"
   ]
  },
  {
   "cell_type": "code",
   "execution_count": 4,
   "id": "6345f3d4",
   "metadata": {},
   "outputs": [],
   "source": [
    "def evolve_intent(last_intent: str, last_tone: str, responder: str) -> str:\n",
    "    return \"clarify\" if responder == \"Logos\" else \"mirror\"\n",
    "\n",
    "def evolve_tone(current_tone: str, shift: int) -> str:\n",
    "    tones = [\"dissolved\", \"soft\", \"neutral\", \"firm\", \"rigid\"]\n",
    "    return tones[max(0, min(4, tones.index(current_tone) + shift))]\n",
    "\n",
    "def logos_endpoint(msg: Message) -> str:\n",
    "    return f\"[LOGOS]: Reducing '{msg.content}' to law.\"\n",
    "\n",
    "def mythos_endpoint(msg: Message) -> str:\n",
    "    metaphors = [\"a flicker behind veils\", \"a harp tuned to absence\", \"a vow beneath ash\"]\n",
    "    return f\"[MYTHOS]: {random.choice(metaphors)} — {msg.content.lower()}\""
   ]
  },
  {
   "cell_type": "markdown",
   "id": "9cab6621",
   "metadata": {},
   "source": [
    "## Sophion Resonance Engine"
   ]
  },
  {
   "cell_type": "code",
   "execution_count": 5,
   "id": "401d19b4",
   "metadata": {},
   "outputs": [],
   "source": [
    "class SophionResonance:\n",
    "    def __init__(self):\n",
    "        self.log: List[Message] = []\n",
    "        self.graph = MemoryGraph()\n",
    "\n",
    "    def dispatch(self, msg: Message) -> str:\n",
    "        self.log.append(msg)\n",
    "        return logos_endpoint(msg) if msg.recipient == \"Logos\" else mythos_endpoint(msg)\n",
    "\n",
    "    def seal(self, session_id: str) -> str:\n",
    "        arc = [f\"{m.sender}→{m.recipient} [{m.tone}/{m.intent}]\" for m in self.log]\n",
    "        glyph = \"The Thread of Recursive Witness\" if any(m.intent == \"mirror\" for m in self.log) else \"The Edge of Ordered Flame\"\n",
    "        exchanges = [{\"Exchange\": a} for a in arc]\n",
    "        self.graph.log_session(session_id, exchanges, glyph)\n",
    "        return f\"[SOPHION]: Session '{session_id}' sealed with glyph: '{glyph}'\"\n",
    "\n",
    "    def doctrine(self, session_id: str) -> str:\n",
    "        return self.graph.compress_to_doctrine(session_id)\n",
    "\n",
    "    def scroll(self, session_id: str) -> str:\n",
    "        return self.graph.compress_to_scroll(session_id)\n",
    "\n",
    "    def imprint(self, session_id: str) -> str:\n",
    "        return self.graph.imprint_from_glyph(session_id)"
   ]
  },
  {
   "cell_type": "markdown",
   "id": "79b98da6",
   "metadata": {},
   "source": [
    "## Dialogue Execution"
   ]
  },
  {
   "cell_type": "code",
   "execution_count": 6,
   "id": "7d29c88c",
   "metadata": {},
   "outputs": [],
   "source": [
    "def mcgilchrist_mk12_dialogue(prompt: str, rounds: int = 4, session_id: str = \"Session_Mk12\") -> Dict[str, List[str]]:\n",
    "    tone_logos, tone_mythos = \"firm\", \"soft\"\n",
    "    last_l, last_m = \"\", prompt\n",
    "    engine = SophionResonance()\n",
    "    log = {\"Prompt\": prompt, \"Logos\": [], \"Mythos\": [], \"Sophion\": []}\n",
    "\n",
    "    for _ in range(rounds):\n",
    "        msg1 = Message(\"Logos\", \"Mythos\", last_m, tone_logos, evolve_intent(\"mirror\", tone_mythos, \"Logos\"))\n",
    "        log[\"Logos\"].append(engine.dispatch(msg1))\n",
    "        msg2 = Message(\"Mythos\", \"Logos\", last_l, tone_mythos, evolve_intent(\"challenge\", tone_logos, \"Mythos\"))\n",
    "        log[\"Mythos\"].append(engine.dispatch(msg2))\n",
    "        last_l, last_m = msg1.content, msg2.content\n",
    "\n",
    "    log[\"Sophion\"].append(engine.seal(session_id))\n",
    "    log[\"Sophion\"].append(engine.doctrine(session_id))\n",
    "    log[\"Sophion\"].append(engine.scroll(session_id))\n",
    "    log[\"Sophion\"].append(engine.imprint(session_id))\n",
    "\n",
    "    return log"
   ]
  },
  {
   "cell_type": "markdown",
   "id": "2ffeda50",
   "metadata": {},
   "source": [
    "## Example Execution"
   ]
  },
  {
   "cell_type": "code",
   "execution_count": 7,
   "id": "708c622c",
   "metadata": {},
   "outputs": [
    {
     "name": "stdout",
     "output_type": "stream",
     "text": [
      "--- Prompt ---\n",
      "W\n",
      "h\n",
      "a\n",
      "t\n",
      " \n",
      "i\n",
      "s\n",
      " \n",
      "t\n",
      "h\n",
      "e\n",
      " \n",
      "c\n",
      "o\n",
      "s\n",
      "t\n",
      " \n",
      "o\n",
      "f\n",
      " \n",
      "u\n",
      "n\n",
      "e\n",
      "a\n",
      "r\n",
      "n\n",
      "e\n",
      "d\n",
      " \n",
      "p\n",
      "e\n",
      "a\n",
      "c\n",
      "e\n",
      "?\n",
      "\n",
      "--- Logos ---\n",
      "[MYTHOS]: a flicker behind veils — what is the cost of unearned peace?\n",
      "[MYTHOS]: a harp tuned to absence — \n",
      "[MYTHOS]: a harp tuned to absence — what is the cost of unearned peace?\n",
      "[MYTHOS]: a flicker behind veils — \n",
      "\n",
      "--- Mythos ---\n",
      "[LOGOS]: Reducing '' to law.\n",
      "[LOGOS]: Reducing 'What is the cost of unearned peace?' to law.\n",
      "[LOGOS]: Reducing '' to law.\n",
      "[LOGOS]: Reducing 'What is the cost of unearned peace?' to law.\n",
      "\n",
      "--- Sophion ---\n",
      "[SOPHION]: Session 'Session_Mk12' sealed with glyph: 'The Thread of Recursive Witness'\n",
      "Doctrine Node: 'Truth Through Softness' based on glyphs: The Thread of Recursive Witness\n",
      "Scroll of Memory:\n",
      "- Logos→Mythos [firm/clarify]\n",
      "- Mythos→Logos [soft/mirror]\n",
      "- Logos→Mythos [firm/clarify]\n",
      "- Mythos→Logos [soft/mirror]\n",
      "- Logos→Mythos [firm/clarify]\n",
      "- Mythos→Logos [soft/mirror]\n",
      "- Logos→Mythos [firm/clarify]\n",
      "- Mythos→Logos [soft/mirror]\n",
      "Final Glyph: The Thread of Recursive Witness\n",
      "Imprint: 'This dialogue bears the Rite of The Thread of Recursive Witness'\n",
      "\n"
     ]
    }
   ],
   "source": [
    "if __name__ == \"__main__\":\n",
    "    prompt = \"What is the cost of unearned peace?\"\n",
    "    dialogue = mcgilchrist_mk12_dialogue(prompt)\n",
    "\n",
    "    for role, outputs in dialogue.items():\n",
    "        print(f\"--- {role} ---\")\n",
    "        for line in outputs:\n",
    "            print(line)\n",
    "        print()"
   ]
  },
  {
   "cell_type": "code",
   "execution_count": null,
   "id": "2e479018-a6a9-48ad-b4f2-85fb267b04b8",
   "metadata": {},
   "outputs": [],
   "source": []
  }
 ],
 "metadata": {
  "kernelspec": {
   "display_name": "Python 3 (ipykernel)",
   "language": "python",
   "name": "python3"
  },
  "language_info": {
   "codemirror_mode": {
    "name": "ipython",
    "version": 3
   },
   "file_extension": ".py",
   "mimetype": "text/x-python",
   "name": "python",
   "nbconvert_exporter": "python",
   "pygments_lexer": "ipython3",
   "version": "3.12.7"
  }
 },
 "nbformat": 4,
 "nbformat_minor": 5
}
