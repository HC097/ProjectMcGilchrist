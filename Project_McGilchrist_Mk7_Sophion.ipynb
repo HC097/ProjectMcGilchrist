{
 "cells": [
  {
   "cell_type": "markdown",
   "id": "24168c65",
   "metadata": {},
   "source": [
    "# Project McGilchrist – Mk7 Prototype\n",
    "**Modular Container Split for Independent Agent Simulation**"
   ]
  },
  {
   "cell_type": "code",
   "execution_count": 1,
   "id": "544dcba5",
   "metadata": {},
   "outputs": [],
   "source": [
    "from typing import Dict, List\n",
    "import random"
   ]
  },
  {
   "cell_type": "markdown",
   "id": "8e54c9ad",
   "metadata": {},
   "source": [
    "## Logos Container"
   ]
  },
  {
   "cell_type": "code",
   "execution_count": 2,
   "id": "33c1ed7c",
   "metadata": {},
   "outputs": [],
   "source": [
    "class LogosContainer:\n",
    "    def __init__(self):\n",
    "        self.name = \"Logos\"\n",
    "        self.archetype = \"Architect\"\n",
    "        self.tone_score = 0\n",
    "        self.history: List[str] = []\n",
    "\n",
    "    def respond(self, input_text: str) -> str:\n",
    "        self.tone_score += 1\n",
    "        tone = \"rigid clarity\" if self.tone_score > 2 else \"firm clarity\"\n",
    "        output = f\"[LOGOS – The {self.archetype}]: In the name of {tone}, I say: {input_text} → [Structured reasoning follows.]\"\n",
    "        self.history.append(output)\n",
    "        return output"
   ]
  },
  {
   "cell_type": "markdown",
   "id": "6c57c62d",
   "metadata": {},
   "source": [
    "## Mythos Container"
   ]
  },
  {
   "cell_type": "code",
   "execution_count": 3,
   "id": "f3d1c4c8",
   "metadata": {},
   "outputs": [],
   "source": [
    "class MythosContainer:\n",
    "    def __init__(self):\n",
    "        self.name = \"Mythos\"\n",
    "        self.archetype = \"Oracle\"\n",
    "        self.tone_score = 0\n",
    "        self.history: List[str] = []\n",
    "\n",
    "    def respond(self, input_text: str) -> str:\n",
    "        self.tone_score -= 1\n",
    "        metaphors = [\"a sun behind clouds\", \"a bell rung in shadow\", \"a flame within a mirror\"]\n",
    "        tone = \"distant echo\" if self.tone_score < -2 else \"whispered light\"\n",
    "        output = f\"[MYTHOS – The {self.archetype}]: As {tone}, I speak: {random.choice(metaphors)} — {input_text}\"\n",
    "        self.history.append(output)\n",
    "        return output"
   ]
  },
  {
   "cell_type": "markdown",
   "id": "23334262",
   "metadata": {},
   "source": [
    "## Sophion Container"
   ]
  },
  {
   "cell_type": "code",
   "execution_count": 4,
   "id": "57e9f719",
   "metadata": {},
   "outputs": [],
   "source": [
    "class SophionContainer:\n",
    "    def __init__(self):\n",
    "        self.name = \"Sophion\"\n",
    "        self.archetype = \"Chronicler\"\n",
    "        self.glyphs: List[str] = []\n",
    "\n",
    "    def intervene(self, logos: LogosContainer, mythos: MythosContainer, turn: int, total_turns: int, invocation: str) -> str:\n",
    "        if invocation == \"seal\":\n",
    "            phrase = self._extract_phrase(mythos)\n",
    "            self.glyphs.append(phrase)\n",
    "            return f\"[SOPHION – The {self.archetype}]: This dialogue is sealed as 'The Rite of {self._name_from_phrase(phrase)}.' Glyph encoded: '{phrase}'\"\n",
    "        elif invocation == \"echo\":\n",
    "            echo = self.glyphs[-1] if self.glyphs else \"(no glyph memory available)\"\n",
    "            return f\"[SOPHION – The {self.archetype}]: Echo invoked. Last glyph recalled: '{echo}'\"\n",
    "        elif invocation == \"forget\":\n",
    "            self.glyphs.clear()\n",
    "            return f\"[SOPHION – The {self.archetype}]: Memory burned. Glyphs erased. Continuity severed.\"\n",
    "        elif turn == total_turns:\n",
    "            return f\"[SOPHION – The {self.archetype}]: Dialogue closed. Tone vector → Logos: {logos.tone_score}, Mythos: {mythos.tone_score}.\"\n",
    "        return \"\"\n",
    "\n",
    "    def _extract_phrase(self, mythos: MythosContainer) -> str:\n",
    "        last = mythos.history[-1] if mythos.history else \"unspecified insight\"\n",
    "        return last.split(\"—\")[-1].strip().rstrip('.')\n",
    "\n",
    "    def _name_from_phrase(self, phrase: str) -> str:\n",
    "        core = phrase.split()[0:3]\n",
    "        return \" \".join(word.capitalize() for word in core)"
   ]
  },
  {
   "cell_type": "markdown",
   "id": "f64688b4",
   "metadata": {},
   "source": [
    "## Dialogue Coordinator"
   ]
  },
  {
   "cell_type": "code",
   "execution_count": 5,
   "id": "b93d243a",
   "metadata": {},
   "outputs": [],
   "source": [
    "def mcgilchrist_mk7_dialogue(prompt: str, rounds: int = 4) -> Dict[str, List[str]]:\n",
    "    invocation = None\n",
    "    prompt_lc = prompt.lower().strip()\n",
    "    if prompt_lc.endswith(\"seal this\"):\n",
    "        invocation = \"seal\"\n",
    "        prompt = prompt.replace(\"Seal this\", \"\").strip()\n",
    "    elif prompt_lc.endswith(\"echo that\"):\n",
    "        invocation = \"echo\"\n",
    "        prompt = prompt.replace(\"Echo that\", \"\").strip()\n",
    "    elif prompt_lc.endswith(\"forget this\"):\n",
    "        invocation = \"forget\"\n",
    "        prompt = prompt.replace(\"Forget this\", \"\").strip()\n",
    "\n",
    "    logos = LogosContainer()\n",
    "    mythos = MythosContainer()\n",
    "    sophion = SophionContainer()\n",
    "\n",
    "    dialogue_log = {\n",
    "        \"Prompt\": prompt,\n",
    "        \"Logos\": [],\n",
    "        \"Mythos\": [],\n",
    "        \"Sophion\": []\n",
    "    }\n",
    "\n",
    "    current_input = prompt\n",
    "\n",
    "    for turn in range(1, rounds + 1):\n",
    "        logos_output = logos.respond(current_input)\n",
    "        mythos_output = mythos.respond(logos_output)\n",
    "\n",
    "        dialogue_log[\"Logos\"].append(logos_output)\n",
    "        dialogue_log[\"Mythos\"].append(mythos_output)\n",
    "\n",
    "        sophion_output = sophion.intervene(logos, mythos, turn, rounds, invocation if turn == rounds else \"\")\n",
    "        if sophion_output:\n",
    "            dialogue_log[\"Sophion\"].append(sophion_output)\n",
    "\n",
    "        current_input = mythos_output\n",
    "\n",
    "    return dialogue_log"
   ]
  },
  {
   "cell_type": "markdown",
   "id": "9f70f10c",
   "metadata": {},
   "source": [
    "## Example Execution"
   ]
  },
  {
   "cell_type": "code",
   "execution_count": 6,
   "id": "f522eca4",
   "metadata": {},
   "outputs": [
    {
     "name": "stdout",
     "output_type": "stream",
     "text": [
      "--- Prompt ---\n",
      "What is the cost of clarity?\n",
      "\n",
      "--- Logos ---\n",
      "[LOGOS – The Architect]: In the name of firm clarity, I say: What is the cost of clarity? → [Structured reasoning follows.]\n",
      "[LOGOS – The Architect]: In the name of firm clarity, I say: [MYTHOS – The Oracle]: As whispered light, I speak: a flame within a mirror — [LOGOS – The Architect]: In the name of firm clarity, I say: What is the cost of clarity? → [Structured reasoning follows.] → [Structured reasoning follows.]\n",
      "[LOGOS – The Architect]: In the name of rigid clarity, I say: [MYTHOS – The Oracle]: As whispered light, I speak: a bell rung in shadow — [LOGOS – The Architect]: In the name of firm clarity, I say: [MYTHOS – The Oracle]: As whispered light, I speak: a flame within a mirror — [LOGOS – The Architect]: In the name of firm clarity, I say: What is the cost of clarity? → [Structured reasoning follows.] → [Structured reasoning follows.] → [Structured reasoning follows.]\n",
      "[LOGOS – The Architect]: In the name of rigid clarity, I say: [MYTHOS – The Oracle]: As distant echo, I speak: a flame within a mirror — [LOGOS – The Architect]: In the name of rigid clarity, I say: [MYTHOS – The Oracle]: As whispered light, I speak: a bell rung in shadow — [LOGOS – The Architect]: In the name of firm clarity, I say: [MYTHOS – The Oracle]: As whispered light, I speak: a flame within a mirror — [LOGOS – The Architect]: In the name of firm clarity, I say: What is the cost of clarity? → [Structured reasoning follows.] → [Structured reasoning follows.] → [Structured reasoning follows.] → [Structured reasoning follows.]\n",
      "\n",
      "--- Mythos ---\n",
      "[MYTHOS – The Oracle]: As whispered light, I speak: a flame within a mirror — [LOGOS – The Architect]: In the name of firm clarity, I say: What is the cost of clarity? → [Structured reasoning follows.]\n",
      "[MYTHOS – The Oracle]: As whispered light, I speak: a bell rung in shadow — [LOGOS – The Architect]: In the name of firm clarity, I say: [MYTHOS – The Oracle]: As whispered light, I speak: a flame within a mirror — [LOGOS – The Architect]: In the name of firm clarity, I say: What is the cost of clarity? → [Structured reasoning follows.] → [Structured reasoning follows.]\n",
      "[MYTHOS – The Oracle]: As distant echo, I speak: a flame within a mirror — [LOGOS – The Architect]: In the name of rigid clarity, I say: [MYTHOS – The Oracle]: As whispered light, I speak: a bell rung in shadow — [LOGOS – The Architect]: In the name of firm clarity, I say: [MYTHOS – The Oracle]: As whispered light, I speak: a flame within a mirror — [LOGOS – The Architect]: In the name of firm clarity, I say: What is the cost of clarity? → [Structured reasoning follows.] → [Structured reasoning follows.] → [Structured reasoning follows.]\n",
      "[MYTHOS – The Oracle]: As distant echo, I speak: a flame within a mirror — [LOGOS – The Architect]: In the name of rigid clarity, I say: [MYTHOS – The Oracle]: As distant echo, I speak: a flame within a mirror — [LOGOS – The Architect]: In the name of rigid clarity, I say: [MYTHOS – The Oracle]: As whispered light, I speak: a bell rung in shadow — [LOGOS – The Architect]: In the name of firm clarity, I say: [MYTHOS – The Oracle]: As whispered light, I speak: a flame within a mirror — [LOGOS – The Architect]: In the name of firm clarity, I say: What is the cost of clarity? → [Structured reasoning follows.] → [Structured reasoning follows.] → [Structured reasoning follows.] → [Structured reasoning follows.]\n",
      "\n",
      "--- Sophion ---\n",
      "[SOPHION – The Chronicler]: This dialogue is sealed as 'The Rite of [logos – The.' Glyph encoded: '[LOGOS – The Architect]: In the name of firm clarity, I say: What is the cost of clarity? → [Structured reasoning follows.] → [Structured reasoning follows.] → [Structured reasoning follows.] → [Structured reasoning follows.]'\n",
      "\n"
     ]
    }
   ],
   "source": [
    "if __name__ == \"__main__\":\n",
    "    prompt = \"What is the cost of clarity? Seal this\"\n",
    "    dialogue = mcgilchrist_mk7_dialogue(prompt, rounds=4)\n",
    "\n",
    "    for role, outputs in dialogue.items():\n",
    "        print(f\"--- {role} ---\")\n",
    "        if isinstance(outputs, list):\n",
    "            for line in outputs:\n",
    "                print(line)\n",
    "        else:\n",
    "            print(outputs)\n",
    "        print()"
   ]
  },
  {
   "cell_type": "code",
   "execution_count": null,
   "id": "47dc5b11-519f-4182-8b0d-b671b1eda1cd",
   "metadata": {},
   "outputs": [],
   "source": []
  }
 ],
 "metadata": {
  "kernelspec": {
   "display_name": "Python 3 (ipykernel)",
   "language": "python",
   "name": "python3"
  },
  "language_info": {
   "codemirror_mode": {
    "name": "ipython",
    "version": 3
   },
   "file_extension": ".py",
   "mimetype": "text/x-python",
   "name": "python",
   "nbconvert_exporter": "python",
   "pygments_lexer": "ipython3",
   "version": "3.12.7"
  }
 },
 "nbformat": 4,
 "nbformat_minor": 5
}
