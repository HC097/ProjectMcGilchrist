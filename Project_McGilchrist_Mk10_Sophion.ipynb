{
 "cells": [
  {
   "cell_type": "markdown",
   "id": "37e921fa",
   "metadata": {},
   "source": [
    "# Project McGilchrist – Mk10 Prototype\n",
    "**Real-Time Dialogue Loop with Intent Evolution and Temporal Mediation**"
   ]
  },
  {
   "cell_type": "code",
   "execution_count": 1,
   "id": "e025fbc3",
   "metadata": {},
   "outputs": [],
   "source": [
    "from typing import Dict, List, Literal\n",
    "import random"
   ]
  },
  {
   "cell_type": "markdown",
   "id": "477764ef",
   "metadata": {},
   "source": [
    "## Message Class"
   ]
  },
  {
   "cell_type": "code",
   "execution_count": 2,
   "id": "23caa306",
   "metadata": {},
   "outputs": [],
   "source": [
    "class Message:\n",
    "    def __init__(self, sender: str, recipient: str, content: str, tone: str, intent: str):\n",
    "        self.sender = sender\n",
    "        self.recipient = recipient\n",
    "        self.content = content\n",
    "        self.tone = tone\n",
    "        self.intent = intent\n",
    "\n",
    "    def __repr__(self):\n",
    "        return f\"Message({self.sender} → {self.recipient} | Tone: {self.tone}, Intent: {self.intent}): {self.content}\""
   ]
  },
  {
   "cell_type": "markdown",
   "id": "62d9deb7",
   "metadata": {},
   "source": [
    "## Intent and Tone Evolution"
   ]
  },
  {
   "cell_type": "code",
   "execution_count": 3,
   "id": "805dee0a",
   "metadata": {},
   "outputs": [],
   "source": [
    "def evolve_intent(last_intent: str, last_tone: str, responder: str) -> str:\n",
    "    if responder == \"Logos\":\n",
    "        return \"clarify\" if last_intent in [\"mirror\", \"dissolve\"] else \"challenge\"\n",
    "    if responder == \"Mythos\":\n",
    "        return \"mirror\" if last_tone in [\"firm\", \"rigid\"] else \"dissolve\"\n",
    "    return \"clarify\"\n",
    "\n",
    "def evolve_tone(current_tone: str, shift: int) -> str:\n",
    "    tones = [\"dissolved\", \"soft\", \"neutral\", \"firm\", \"rigid\"]\n",
    "    index = max(0, min(4, tones.index(current_tone) + shift))\n",
    "    return tones[index]"
   ]
  },
  {
   "cell_type": "markdown",
   "id": "76796a96",
   "metadata": {},
   "source": [
    "## Simulated Agent Endpoints"
   ]
  },
  {
   "cell_type": "code",
   "execution_count": 4,
   "id": "935d1547",
   "metadata": {},
   "outputs": [],
   "source": [
    "def logos_endpoint(message: Message) -> str:\n",
    "    return f\"[LOGOS API]: Reducing '{message.content}' to principle.\"\n",
    "\n",
    "def mythos_endpoint(message: Message) -> str:\n",
    "    metaphors = [\"a mirrored flame\", \"a bell in dusk\", \"a truth spoken backwards\"]\n",
    "    return f\"[MYTHOS API]: As {message.intent}, I whisper: '{random.choice(metaphors)} — {message.content.lower()}.'\""
   ]
  },
  {
   "cell_type": "markdown",
   "id": "4193b832",
   "metadata": {},
   "source": [
    "## Sophion Temporal Mediator"
   ]
  },
  {
   "cell_type": "code",
   "execution_count": 5,
   "id": "a0174b03",
   "metadata": {},
   "outputs": [],
   "source": [
    "class SophionTemporal:\n",
    "    def __init__(self):\n",
    "        self.log: List[Message] = []\n",
    "        self.arc_notes: List[str] = []\n",
    "\n",
    "    def dispatch(self, message: Message) -> str:\n",
    "        self.log.append(message)\n",
    "        if message.recipient == \"Logos\":\n",
    "            return logos_endpoint(message)\n",
    "        if message.recipient == \"Mythos\":\n",
    "            return mythos_endpoint(message)\n",
    "        return \"[ERROR]: Unknown recipient\"\n",
    "\n",
    "    def reflect_arc(self) -> str:\n",
    "        trajectory = [m.tone for m in self.log if m.sender in [\"Logos\", \"Mythos\"]]\n",
    "        glyph = \"The Dance of Recursive Yielding\" if trajectory.count(\"mirror\") > 1 else \"The Arc of Spiraled Challenge\"\n",
    "        return f\"[SOPHION]: Dialogue arc completed. Tones tracked: {trajectory}. Glyph sealed: '{glyph}'\""
   ]
  },
  {
   "cell_type": "markdown",
   "id": "a1ede898",
   "metadata": {},
   "source": [
    "## Dialogue Loop Coordinator"
   ]
  },
  {
   "cell_type": "code",
   "execution_count": 6,
   "id": "7c4af6f7",
   "metadata": {},
   "outputs": [],
   "source": [
    "def mcgilchrist_mk10_dialogue(prompt: str, rounds: int = 4) -> Dict[str, List[str]]:\n",
    "    logos_tone, mythos_tone = \"firm\", \"soft\"\n",
    "    logos_intent, mythos_intent = \"challenge\", \"mirror\"\n",
    "    last_message_logos, last_message_mythos = \"\", prompt\n",
    "\n",
    "    sophion = SophionTemporal()\n",
    "    dialogue_log = {\"Prompt\": prompt, \"Logos\": [], \"Mythos\": [], \"Sophion\": []}\n",
    "\n",
    "    for round_num in range(1, rounds + 1):\n",
    "        # Logos responds to Mythos\n",
    "        logos_intent = evolve_intent(mythos_intent, mythos_tone, \"Logos\")\n",
    "        logos_tone = evolve_tone(logos_tone, 1 if mythos_intent == \"dissolve\" else 0)\n",
    "        msg1 = Message(\"Logos\", \"Mythos\", last_message_mythos, logos_tone, logos_intent)\n",
    "        resp1 = sophion.dispatch(msg1)\n",
    "        dialogue_log[\"Logos\"].append(resp1)\n",
    "\n",
    "        # Mythos responds to Logos\n",
    "        mythos_intent = evolve_intent(logos_intent, logos_tone, \"Mythos\")\n",
    "        mythos_tone = evolve_tone(mythos_tone, -1 if logos_intent == \"challenge\" else 0)\n",
    "        msg2 = Message(\"Mythos\", \"Logos\", last_message_logos, mythos_tone, mythos_intent)\n",
    "        resp2 = sophion.dispatch(msg2)\n",
    "        dialogue_log[\"Mythos\"].append(resp2)\n",
    "\n",
    "        last_message_logos = msg1.content\n",
    "        last_message_mythos = msg2.content\n",
    "\n",
    "    summary = sophion.reflect_arc()\n",
    "    dialogue_log[\"Sophion\"].append(summary)\n",
    "    return dialogue_log"
   ]
  },
  {
   "cell_type": "markdown",
   "id": "93bfc901",
   "metadata": {},
   "source": [
    "## Example Execution"
   ]
  },
  {
   "cell_type": "code",
   "execution_count": 7,
   "id": "4c27c7d2",
   "metadata": {},
   "outputs": [
    {
     "name": "stdout",
     "output_type": "stream",
     "text": [
      "--- Prompt ---\n",
      "W\n",
      "h\n",
      "a\n",
      "t\n",
      " \n",
      "i\n",
      "s\n",
      " \n",
      "t\n",
      "h\n",
      "e\n",
      " \n",
      "e\n",
      "s\n",
      "s\n",
      "e\n",
      "n\n",
      "c\n",
      "e\n",
      " \n",
      "o\n",
      "f\n",
      " \n",
      "f\n",
      "r\n",
      "e\n",
      "e\n",
      "d\n",
      "o\n",
      "m\n",
      "?\n",
      "\n",
      "--- Logos ---\n",
      "[MYTHOS API]: As clarify, I whisper: 'a mirrored flame — what is the essence of freedom?.'\n",
      "[MYTHOS API]: As clarify, I whisper: 'a bell in dusk — .'\n",
      "[MYTHOS API]: As clarify, I whisper: 'a bell in dusk — what is the essence of freedom?.'\n",
      "[MYTHOS API]: As clarify, I whisper: 'a mirrored flame — .'\n",
      "\n",
      "--- Mythos ---\n",
      "[LOGOS API]: Reducing '' to principle.\n",
      "[LOGOS API]: Reducing 'What is the essence of freedom?' to principle.\n",
      "[LOGOS API]: Reducing '' to principle.\n",
      "[LOGOS API]: Reducing 'What is the essence of freedom?' to principle.\n",
      "\n",
      "--- Sophion ---\n",
      "[SOPHION]: Dialogue arc completed. Tones tracked: ['firm', 'soft', 'firm', 'soft', 'firm', 'soft', 'firm', 'soft']. Glyph sealed: 'The Arc of Spiraled Challenge'\n",
      "\n"
     ]
    }
   ],
   "source": [
    "if __name__ == \"__main__\":\n",
    "    prompt = \"What is the essence of freedom?\"\n",
    "    dialogue = mcgilchrist_mk10_dialogue(prompt, rounds=4)\n",
    "\n",
    "    for role, outputs in dialogue.items():\n",
    "        print(f\"--- {role} ---\")\n",
    "        for line in outputs:\n",
    "            print(line)\n",
    "        print()"
   ]
  }
 ],
 "metadata": {
  "kernelspec": {
   "display_name": "Python 3 (ipykernel)",
   "language": "python",
   "name": "python3"
  },
  "language_info": {
   "codemirror_mode": {
    "name": "ipython",
    "version": 3
   },
   "file_extension": ".py",
   "mimetype": "text/x-python",
   "name": "python",
   "nbconvert_exporter": "python",
   "pygments_lexer": "ipython3",
   "version": "3.12.7"
  }
 },
 "nbformat": 4,
 "nbformat_minor": 5
}
