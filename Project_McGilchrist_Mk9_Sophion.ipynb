{
 "cells": [
  {
   "cell_type": "markdown",
   "id": "eaef7879",
   "metadata": {},
   "source": [
    "# Project McGilchrist – Mk9 Prototype\n",
    "**Distributed Cognition Simulation with Agent Endpoints**"
   ]
  },
  {
   "cell_type": "code",
   "execution_count": 1,
   "id": "41824f11",
   "metadata": {},
   "outputs": [],
   "source": [
    "from typing import Dict, List, Literal\n",
    "import random"
   ]
  },
  {
   "cell_type": "markdown",
   "id": "3187745a",
   "metadata": {},
   "source": [
    "## Message Class"
   ]
  },
  {
   "cell_type": "code",
   "execution_count": 2,
   "id": "b786416d",
   "metadata": {},
   "outputs": [],
   "source": [
    "class Message:\n",
    "    def __init__(self, sender: str, recipient: str, content: str, tone: str, intent: Literal['clarify', 'challenge', 'mirror', 'dissolve']):\n",
    "        self.sender = sender\n",
    "        self.recipient = recipient\n",
    "        self.content = content\n",
    "        self.tone = tone\n",
    "        self.intent = intent\n",
    "\n",
    "    def __repr__(self):\n",
    "        return f\"Message({self.sender} → {self.recipient} | Tone: {self.tone}, Intent: {self.intent}): {self.content}\""
   ]
  },
  {
   "cell_type": "markdown",
   "id": "216d9c24",
   "metadata": {},
   "source": [
    "## Simulated Agent Endpoints"
   ]
  },
  {
   "cell_type": "code",
   "execution_count": 3,
   "id": "32d3285e",
   "metadata": {},
   "outputs": [],
   "source": [
    "def call_agent_endpoint(agent_name: str, message: Message) -> str:\n",
    "    if agent_name == \"Logos\":\n",
    "        return logos_endpoint(message)\n",
    "    elif agent_name == \"Mythos\":\n",
    "        return mythos_endpoint(message)\n",
    "    else:\n",
    "        return f\"[ERROR]: Unknown agent '{agent_name}'\"\n",
    "\n",
    "def logos_endpoint(message: Message) -> str:\n",
    "    return f\"[LOGOS API]: Responding to {message.intent} with {message.tone} tone → 'I reduce {message.content} to axioms.'\"\n",
    "\n",
    "def mythos_endpoint(message: Message) -> str:\n",
    "    metaphors = [\"a mirror of stars\", \"a whisper in stone\", \"a dance across silence\"]\n",
    "    return f\"[MYTHOS API]: As {message.intent}, I say: '{random.choice(metaphors)} reveals that {message.content.lower()}.'\""
   ]
  },
  {
   "cell_type": "markdown",
   "id": "7a4ef344",
   "metadata": {},
   "source": [
    "## Sophion Router"
   ]
  },
  {
   "cell_type": "code",
   "execution_count": 4,
   "id": "7dc4c82a",
   "metadata": {},
   "outputs": [],
   "source": [
    "class SophionRouter:\n",
    "    def __init__(self):\n",
    "        self.log: List[Message] = []\n",
    "\n",
    "    def dispatch(self, message: Message) -> str:\n",
    "        self.log.append(message)\n",
    "        return call_agent_endpoint(message.recipient, message)\n",
    "\n",
    "    def reflect_network(self) -> str:\n",
    "        if not self.log:\n",
    "            return \"[SOPHION]: No traffic yet.\"\n",
    "        challenges = sum(1 for m in self.log if m.intent == \"challenge\")\n",
    "        glyph = \"The Axis of Disputation\" if challenges >= 2 else \"The Thread of Resonant Inquiry\"\n",
    "        return f\"[SOPHION]: {len(self.log)} messages recorded. Glyph invoked: '{glyph}'\""
   ]
  },
  {
   "cell_type": "markdown",
   "id": "64d2f42d",
   "metadata": {},
   "source": [
    "## Dialogue Coordinator"
   ]
  },
  {
   "cell_type": "code",
   "execution_count": 5,
   "id": "803be99b",
   "metadata": {},
   "outputs": [],
   "source": [
    "def mcgilchrist_mk9_dialogue(prompt: str) -> Dict[str, List[str]]:\n",
    "    sophion = SophionRouter()\n",
    "\n",
    "    dialogue_log = {\n",
    "        \"Prompt\": prompt,\n",
    "        \"Logos\": [],\n",
    "        \"Mythos\": [],\n",
    "        \"Sophion\": []\n",
    "    }\n",
    "\n",
    "    # Logos sends to Mythos\n",
    "    msg1 = Message(\"Logos\", \"Mythos\", prompt, \"firm\", \"challenge\")\n",
    "    response1 = sophion.dispatch(msg1)\n",
    "\n",
    "    # Mythos replies to Logos\n",
    "    msg2 = Message(\"Mythos\", \"Logos\", \"Truth cannot be caged in axioms.\", \"soft\", \"mirror\")\n",
    "    response2 = sophion.dispatch(msg2)\n",
    "\n",
    "    # Sophion reflects\n",
    "    summary = sophion.reflect_network()\n",
    "\n",
    "    dialogue_log[\"Logos\"].append(response2)\n",
    "    dialogue_log[\"Mythos\"].append(response1)\n",
    "    dialogue_log[\"Sophion\"].append(summary)\n",
    "\n",
    "    return dialogue_log"
   ]
  },
  {
   "cell_type": "markdown",
   "id": "b44af9a2",
   "metadata": {},
   "source": [
    "## Example Execution"
   ]
  },
  {
   "cell_type": "code",
   "execution_count": 6,
   "id": "2b0b5153",
   "metadata": {},
   "outputs": [
    {
     "name": "stdout",
     "output_type": "stream",
     "text": [
      "--- Prompt ---\n",
      "D\n",
      "e\n",
      "f\n",
      "i\n",
      "n\n",
      "e\n",
      " \n",
      "t\n",
      "h\n",
      "e\n",
      " \n",
      "e\n",
      "s\n",
      "s\n",
      "e\n",
      "n\n",
      "c\n",
      "e\n",
      " \n",
      "o\n",
      "f\n",
      " \n",
      "t\n",
      "r\n",
      "u\n",
      "t\n",
      "h\n",
      ".\n",
      "\n",
      "--- Logos ---\n",
      "[LOGOS API]: Responding to mirror with soft tone → 'I reduce Truth cannot be caged in axioms. to axioms.'\n",
      "\n",
      "--- Mythos ---\n",
      "[MYTHOS API]: As challenge, I say: 'a mirror of stars reveals that define the essence of truth..'\n",
      "\n",
      "--- Sophion ---\n",
      "[SOPHION]: 2 messages recorded. Glyph invoked: 'The Thread of Resonant Inquiry'\n",
      "\n"
     ]
    }
   ],
   "source": [
    "if __name__ == \"__main__\":\n",
    "    prompt = \"Define the essence of truth.\"\n",
    "    dialogue = mcgilchrist_mk9_dialogue(prompt)\n",
    "\n",
    "    for role, outputs in dialogue.items():\n",
    "        print(f\"--- {role} ---\")\n",
    "        for line in outputs:\n",
    "            print(line)\n",
    "        print()"
   ]
  },
  {
   "cell_type": "code",
   "execution_count": null,
   "id": "046d4f65-5f4f-405e-a7d1-7e09d4eb4945",
   "metadata": {},
   "outputs": [],
   "source": []
  }
 ],
 "metadata": {
  "kernelspec": {
   "display_name": "Python 3 (ipykernel)",
   "language": "python",
   "name": "python3"
  },
  "language_info": {
   "codemirror_mode": {
    "name": "ipython",
    "version": 3
   },
   "file_extension": ".py",
   "mimetype": "text/x-python",
   "name": "python",
   "nbconvert_exporter": "python",
   "pygments_lexer": "ipython3",
   "version": "3.12.7"
  }
 },
 "nbformat": 4,
 "nbformat_minor": 5
}
