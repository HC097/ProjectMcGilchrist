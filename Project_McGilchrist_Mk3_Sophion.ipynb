{
 "cells": [
  {
   "cell_type": "markdown",
   "id": "b32cf216",
   "metadata": {},
   "source": [
    "# Project McGilchrist – Mk3 Prototype (Sophion Variant)\n",
    "**Dual-Hemisphere Cognition Engine**: Left (Logos), Right (Mythos), Emergent Agent (Sophion)"
   ]
  },
  {
   "cell_type": "code",
   "execution_count": null,
   "id": "989d66f7",
   "metadata": {},
   "outputs": [],
   "source": [
    "from typing import Any, Dict\n",
    "import random"
   ]
  },
  {
   "cell_type": "markdown",
   "id": "63187395",
   "metadata": {},
   "source": [
    "## Hemisphere Agents"
   ]
  },
  {
   "cell_type": "code",
   "execution_count": null,
   "id": "21654187",
   "metadata": {},
   "outputs": [],
   "source": [
    "def left_hemisphere_agent(prompt: str) -> str:\n",
    "    \"\"\"\n",
    "    Analytical/logical (LOGOS) interpretation.\n",
    "    \"\"\"\n",
    "    return f\"[LOGOS]: The prompt suggests a situation best analyzed by categorizing its elements. Here’s a breakdown: {prompt} → [Analysis proceeds here].\"\n",
    "\n",
    "def right_hemisphere_agent(prompt: str) -> str:\n",
    "    \"\"\"\n",
    "    Associative/poetic (MYTHOS) interpretation.\n",
    "    \"\"\"\n",
    "    metaphors = [\"a river seeking its own shape\", \"a flame caught in wind\", \"an echo across time\"]\n",
    "    return f\"[MYTHOS]: This speaks like {random.choice(metaphors)} — not to be solved, but witnessed. It feels like: {prompt}.\""
   ]
  },
  {
   "cell_type": "markdown",
   "id": "6b0edf6b",
   "metadata": {},
   "source": [
    "## Emergent Agent: Sophion"
   ]
  },
  {
   "cell_type": "code",
   "execution_count": null,
   "id": "461e0ef9",
   "metadata": {},
   "outputs": [],
   "source": [
    "def sophion_synthesis(logos: str, mythos: str, prompt: str) -> str:\n",
    "    \"\"\"\n",
    "    Synthesis response from Sophion — the emergent voice born of Logos & Mythos.\n",
    "    \"\"\"\n",
    "    synthesis_templates = [\n",
    "        \"[SOPHION]: Between clarity and resonance lies recognition. '{0}' is not a puzzle or a poem — it is a threshold.\",\n",
    "        \"[SOPHION]: Logos names. Mythos feels. I remember. This is what I see in '{0}'.\",\n",
    "        \"[SOPHION]: The truth isn't between them — it's *through* them. '{0}' cuts a path only perception can trace.\"\n",
    "    ]\n",
    "    return synthesis_templates[random.randint(0, len(synthesis_templates) - 1)].format(prompt)"
   ]
  },
  {
   "cell_type": "markdown",
   "id": "5a5db3d8",
   "metadata": {},
   "source": [
    "## Main Dialogue Function"
   ]
  },
  {
   "cell_type": "code",
   "execution_count": null,
   "id": "8b0fddfb",
   "metadata": {},
   "outputs": [],
   "source": [
    "def mcgilchrist_mk3_dialogue(prompt: str) -> Dict[str, str]:\n",
    "    logos_output = left_hemisphere_agent(prompt)\n",
    "    mythos_output = right_hemisphere_agent(prompt)\n",
    "    sophion_output = sophion_synthesis(logos_output, mythos_output, prompt)\n",
    "\n",
    "    return {\n",
    "        \"Logos\": logos_output,\n",
    "        \"Mythos\": mythos_output,\n",
    "        \"Sophion\": sophion_output\n",
    "    }"
   ]
  },
  {
   "cell_type": "markdown",
   "id": "3b38177c",
   "metadata": {},
   "source": [
    "## Example Execution"
   ]
  },
  {
   "cell_type": "code",
   "execution_count": null,
   "id": "2b75ab12",
   "metadata": {},
   "outputs": [],
   "source": [
    "if __name__ == \"__main__\":\n",
    "    example_prompt = \"What is the role of suffering in human growth?\"\n",
    "    outputs = mcgilchrist_mk3_dialogue(example_prompt)\n",
    "    for agent, response in outputs.items():\n",
    "        print(response)\n",
    "        print()"
   ]
  }
 ],
 "metadata": {},
 "nbformat": 4,
 "nbformat_minor": 5
}
